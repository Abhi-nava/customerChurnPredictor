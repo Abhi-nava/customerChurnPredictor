{
 "cells": [
  {
   "cell_type": "code",
   "id": "initial_id",
   "metadata": {
    "collapsed": true,
    "ExecuteTime": {
     "end_time": "2025-07-18T14:36:00.808903Z",
     "start_time": "2025-07-18T14:36:00.795903Z"
    }
   },
   "source": [
    "import pandas as pd\n",
    "from sklearn.model_selection import train_test_split\n",
    "from sklearn.preprocessing import StandardScaler, LabelEncoder, OneHotEncoder\n",
    "import pickle"
   ],
   "outputs": [],
   "execution_count": 17
  },
  {
   "metadata": {
    "ExecuteTime": {
     "end_time": "2025-07-18T14:36:01.107525Z",
     "start_time": "2025-07-18T14:36:01.067017Z"
    }
   },
   "cell_type": "code",
   "source": [
    "data = pd.read_csv('../dataset/Churn_Modelling.csv')\n",
    "data.head()"
   ],
   "id": "9febeaff177d8a42",
   "outputs": [
    {
     "data": {
      "text/plain": [
       "   RowNumber  CustomerId   Surname  CreditScore Geography  Gender  Age  \\\n",
       "0          1    15634602  Hargrave          619    France  Female   42   \n",
       "1          2    15647311      Hill          608     Spain  Female   41   \n",
       "2          3    15619304      Onio          502    France  Female   42   \n",
       "3          4    15701354      Boni          699    France  Female   39   \n",
       "4          5    15737888  Mitchell          850     Spain  Female   43   \n",
       "\n",
       "   Tenure    Balance  NumOfProducts  HasCrCard  IsActiveMember  \\\n",
       "0       2       0.00              1          1               1   \n",
       "1       1   83807.86              1          0               1   \n",
       "2       8  159660.80              3          1               0   \n",
       "3       1       0.00              2          0               0   \n",
       "4       2  125510.82              1          1               1   \n",
       "\n",
       "   EstimatedSalary  Exited  \n",
       "0        101348.88       1  \n",
       "1        112542.58       0  \n",
       "2        113931.57       1  \n",
       "3         93826.63       0  \n",
       "4         79084.10       0  "
      ],
      "text/html": [
       "<div>\n",
       "<style scoped>\n",
       "    .dataframe tbody tr th:only-of-type {\n",
       "        vertical-align: middle;\n",
       "    }\n",
       "\n",
       "    .dataframe tbody tr th {\n",
       "        vertical-align: top;\n",
       "    }\n",
       "\n",
       "    .dataframe thead th {\n",
       "        text-align: right;\n",
       "    }\n",
       "</style>\n",
       "<table border=\"1\" class=\"dataframe\">\n",
       "  <thead>\n",
       "    <tr style=\"text-align: right;\">\n",
       "      <th></th>\n",
       "      <th>RowNumber</th>\n",
       "      <th>CustomerId</th>\n",
       "      <th>Surname</th>\n",
       "      <th>CreditScore</th>\n",
       "      <th>Geography</th>\n",
       "      <th>Gender</th>\n",
       "      <th>Age</th>\n",
       "      <th>Tenure</th>\n",
       "      <th>Balance</th>\n",
       "      <th>NumOfProducts</th>\n",
       "      <th>HasCrCard</th>\n",
       "      <th>IsActiveMember</th>\n",
       "      <th>EstimatedSalary</th>\n",
       "      <th>Exited</th>\n",
       "    </tr>\n",
       "  </thead>\n",
       "  <tbody>\n",
       "    <tr>\n",
       "      <th>0</th>\n",
       "      <td>1</td>\n",
       "      <td>15634602</td>\n",
       "      <td>Hargrave</td>\n",
       "      <td>619</td>\n",
       "      <td>France</td>\n",
       "      <td>Female</td>\n",
       "      <td>42</td>\n",
       "      <td>2</td>\n",
       "      <td>0.00</td>\n",
       "      <td>1</td>\n",
       "      <td>1</td>\n",
       "      <td>1</td>\n",
       "      <td>101348.88</td>\n",
       "      <td>1</td>\n",
       "    </tr>\n",
       "    <tr>\n",
       "      <th>1</th>\n",
       "      <td>2</td>\n",
       "      <td>15647311</td>\n",
       "      <td>Hill</td>\n",
       "      <td>608</td>\n",
       "      <td>Spain</td>\n",
       "      <td>Female</td>\n",
       "      <td>41</td>\n",
       "      <td>1</td>\n",
       "      <td>83807.86</td>\n",
       "      <td>1</td>\n",
       "      <td>0</td>\n",
       "      <td>1</td>\n",
       "      <td>112542.58</td>\n",
       "      <td>0</td>\n",
       "    </tr>\n",
       "    <tr>\n",
       "      <th>2</th>\n",
       "      <td>3</td>\n",
       "      <td>15619304</td>\n",
       "      <td>Onio</td>\n",
       "      <td>502</td>\n",
       "      <td>France</td>\n",
       "      <td>Female</td>\n",
       "      <td>42</td>\n",
       "      <td>8</td>\n",
       "      <td>159660.80</td>\n",
       "      <td>3</td>\n",
       "      <td>1</td>\n",
       "      <td>0</td>\n",
       "      <td>113931.57</td>\n",
       "      <td>1</td>\n",
       "    </tr>\n",
       "    <tr>\n",
       "      <th>3</th>\n",
       "      <td>4</td>\n",
       "      <td>15701354</td>\n",
       "      <td>Boni</td>\n",
       "      <td>699</td>\n",
       "      <td>France</td>\n",
       "      <td>Female</td>\n",
       "      <td>39</td>\n",
       "      <td>1</td>\n",
       "      <td>0.00</td>\n",
       "      <td>2</td>\n",
       "      <td>0</td>\n",
       "      <td>0</td>\n",
       "      <td>93826.63</td>\n",
       "      <td>0</td>\n",
       "    </tr>\n",
       "    <tr>\n",
       "      <th>4</th>\n",
       "      <td>5</td>\n",
       "      <td>15737888</td>\n",
       "      <td>Mitchell</td>\n",
       "      <td>850</td>\n",
       "      <td>Spain</td>\n",
       "      <td>Female</td>\n",
       "      <td>43</td>\n",
       "      <td>2</td>\n",
       "      <td>125510.82</td>\n",
       "      <td>1</td>\n",
       "      <td>1</td>\n",
       "      <td>1</td>\n",
       "      <td>79084.10</td>\n",
       "      <td>0</td>\n",
       "    </tr>\n",
       "  </tbody>\n",
       "</table>\n",
       "</div>"
      ]
     },
     "execution_count": 18,
     "metadata": {},
     "output_type": "execute_result"
    }
   ],
   "execution_count": 18
  },
  {
   "metadata": {
    "ExecuteTime": {
     "end_time": "2025-07-18T14:36:01.388404Z",
     "start_time": "2025-07-18T14:36:01.377195Z"
    }
   },
   "cell_type": "code",
   "source": [
    "data = data.drop(['RowNumber', 'CustomerId','Surname'], axis=1)\n",
    "data.head()"
   ],
   "id": "e011a4a4592f743d",
   "outputs": [
    {
     "data": {
      "text/plain": [
       "   CreditScore Geography  Gender  Age  Tenure    Balance  NumOfProducts  \\\n",
       "0          619    France  Female   42       2       0.00              1   \n",
       "1          608     Spain  Female   41       1   83807.86              1   \n",
       "2          502    France  Female   42       8  159660.80              3   \n",
       "3          699    France  Female   39       1       0.00              2   \n",
       "4          850     Spain  Female   43       2  125510.82              1   \n",
       "\n",
       "   HasCrCard  IsActiveMember  EstimatedSalary  Exited  \n",
       "0          1               1        101348.88       1  \n",
       "1          0               1        112542.58       0  \n",
       "2          1               0        113931.57       1  \n",
       "3          0               0         93826.63       0  \n",
       "4          1               1         79084.10       0  "
      ],
      "text/html": [
       "<div>\n",
       "<style scoped>\n",
       "    .dataframe tbody tr th:only-of-type {\n",
       "        vertical-align: middle;\n",
       "    }\n",
       "\n",
       "    .dataframe tbody tr th {\n",
       "        vertical-align: top;\n",
       "    }\n",
       "\n",
       "    .dataframe thead th {\n",
       "        text-align: right;\n",
       "    }\n",
       "</style>\n",
       "<table border=\"1\" class=\"dataframe\">\n",
       "  <thead>\n",
       "    <tr style=\"text-align: right;\">\n",
       "      <th></th>\n",
       "      <th>CreditScore</th>\n",
       "      <th>Geography</th>\n",
       "      <th>Gender</th>\n",
       "      <th>Age</th>\n",
       "      <th>Tenure</th>\n",
       "      <th>Balance</th>\n",
       "      <th>NumOfProducts</th>\n",
       "      <th>HasCrCard</th>\n",
       "      <th>IsActiveMember</th>\n",
       "      <th>EstimatedSalary</th>\n",
       "      <th>Exited</th>\n",
       "    </tr>\n",
       "  </thead>\n",
       "  <tbody>\n",
       "    <tr>\n",
       "      <th>0</th>\n",
       "      <td>619</td>\n",
       "      <td>France</td>\n",
       "      <td>Female</td>\n",
       "      <td>42</td>\n",
       "      <td>2</td>\n",
       "      <td>0.00</td>\n",
       "      <td>1</td>\n",
       "      <td>1</td>\n",
       "      <td>1</td>\n",
       "      <td>101348.88</td>\n",
       "      <td>1</td>\n",
       "    </tr>\n",
       "    <tr>\n",
       "      <th>1</th>\n",
       "      <td>608</td>\n",
       "      <td>Spain</td>\n",
       "      <td>Female</td>\n",
       "      <td>41</td>\n",
       "      <td>1</td>\n",
       "      <td>83807.86</td>\n",
       "      <td>1</td>\n",
       "      <td>0</td>\n",
       "      <td>1</td>\n",
       "      <td>112542.58</td>\n",
       "      <td>0</td>\n",
       "    </tr>\n",
       "    <tr>\n",
       "      <th>2</th>\n",
       "      <td>502</td>\n",
       "      <td>France</td>\n",
       "      <td>Female</td>\n",
       "      <td>42</td>\n",
       "      <td>8</td>\n",
       "      <td>159660.80</td>\n",
       "      <td>3</td>\n",
       "      <td>1</td>\n",
       "      <td>0</td>\n",
       "      <td>113931.57</td>\n",
       "      <td>1</td>\n",
       "    </tr>\n",
       "    <tr>\n",
       "      <th>3</th>\n",
       "      <td>699</td>\n",
       "      <td>France</td>\n",
       "      <td>Female</td>\n",
       "      <td>39</td>\n",
       "      <td>1</td>\n",
       "      <td>0.00</td>\n",
       "      <td>2</td>\n",
       "      <td>0</td>\n",
       "      <td>0</td>\n",
       "      <td>93826.63</td>\n",
       "      <td>0</td>\n",
       "    </tr>\n",
       "    <tr>\n",
       "      <th>4</th>\n",
       "      <td>850</td>\n",
       "      <td>Spain</td>\n",
       "      <td>Female</td>\n",
       "      <td>43</td>\n",
       "      <td>2</td>\n",
       "      <td>125510.82</td>\n",
       "      <td>1</td>\n",
       "      <td>1</td>\n",
       "      <td>1</td>\n",
       "      <td>79084.10</td>\n",
       "      <td>0</td>\n",
       "    </tr>\n",
       "  </tbody>\n",
       "</table>\n",
       "</div>"
      ]
     },
     "execution_count": 19,
     "metadata": {},
     "output_type": "execute_result"
    }
   ],
   "execution_count": 19
  },
  {
   "metadata": {
    "ExecuteTime": {
     "end_time": "2025-07-18T14:36:01.744652Z",
     "start_time": "2025-07-18T14:36:01.717615Z"
    }
   },
   "cell_type": "code",
   "source": [
    "label_encoder_gender = LabelEncoder()\n",
    "data['Gender'] = label_encoder_gender.fit_transform(data['Gender'])\n",
    "\n",
    "onehot_encoder_geo = OneHotEncoder(handle_unknown=\"ignore\")\n",
    "geo_encoded = onehot_encoder_geo.fit_transform(data[['Geography']]).toarray()\n",
    "geo_encoded_df = pd.DataFrame(geo_encoded, columns=onehot_encoder_geo.get_feature_names_out(['Geography']))\n",
    "\n",
    "data = pd.concat([data.drop(\"Geography\", axis=1), geo_encoded_df], axis=1)\n",
    "data.head()"
   ],
   "id": "72bb3b28b8b321d8",
   "outputs": [
    {
     "data": {
      "text/plain": [
       "   CreditScore  Gender  Age  Tenure    Balance  NumOfProducts  HasCrCard  \\\n",
       "0          619       0   42       2       0.00              1          1   \n",
       "1          608       0   41       1   83807.86              1          0   \n",
       "2          502       0   42       8  159660.80              3          1   \n",
       "3          699       0   39       1       0.00              2          0   \n",
       "4          850       0   43       2  125510.82              1          1   \n",
       "\n",
       "   IsActiveMember  EstimatedSalary  Exited  Geography_France  \\\n",
       "0               1        101348.88       1               1.0   \n",
       "1               1        112542.58       0               0.0   \n",
       "2               0        113931.57       1               1.0   \n",
       "3               0         93826.63       0               1.0   \n",
       "4               1         79084.10       0               0.0   \n",
       "\n",
       "   Geography_Germany  Geography_Spain  \n",
       "0                0.0              0.0  \n",
       "1                0.0              1.0  \n",
       "2                0.0              0.0  \n",
       "3                0.0              0.0  \n",
       "4                0.0              1.0  "
      ],
      "text/html": [
       "<div>\n",
       "<style scoped>\n",
       "    .dataframe tbody tr th:only-of-type {\n",
       "        vertical-align: middle;\n",
       "    }\n",
       "\n",
       "    .dataframe tbody tr th {\n",
       "        vertical-align: top;\n",
       "    }\n",
       "\n",
       "    .dataframe thead th {\n",
       "        text-align: right;\n",
       "    }\n",
       "</style>\n",
       "<table border=\"1\" class=\"dataframe\">\n",
       "  <thead>\n",
       "    <tr style=\"text-align: right;\">\n",
       "      <th></th>\n",
       "      <th>CreditScore</th>\n",
       "      <th>Gender</th>\n",
       "      <th>Age</th>\n",
       "      <th>Tenure</th>\n",
       "      <th>Balance</th>\n",
       "      <th>NumOfProducts</th>\n",
       "      <th>HasCrCard</th>\n",
       "      <th>IsActiveMember</th>\n",
       "      <th>EstimatedSalary</th>\n",
       "      <th>Exited</th>\n",
       "      <th>Geography_France</th>\n",
       "      <th>Geography_Germany</th>\n",
       "      <th>Geography_Spain</th>\n",
       "    </tr>\n",
       "  </thead>\n",
       "  <tbody>\n",
       "    <tr>\n",
       "      <th>0</th>\n",
       "      <td>619</td>\n",
       "      <td>0</td>\n",
       "      <td>42</td>\n",
       "      <td>2</td>\n",
       "      <td>0.00</td>\n",
       "      <td>1</td>\n",
       "      <td>1</td>\n",
       "      <td>1</td>\n",
       "      <td>101348.88</td>\n",
       "      <td>1</td>\n",
       "      <td>1.0</td>\n",
       "      <td>0.0</td>\n",
       "      <td>0.0</td>\n",
       "    </tr>\n",
       "    <tr>\n",
       "      <th>1</th>\n",
       "      <td>608</td>\n",
       "      <td>0</td>\n",
       "      <td>41</td>\n",
       "      <td>1</td>\n",
       "      <td>83807.86</td>\n",
       "      <td>1</td>\n",
       "      <td>0</td>\n",
       "      <td>1</td>\n",
       "      <td>112542.58</td>\n",
       "      <td>0</td>\n",
       "      <td>0.0</td>\n",
       "      <td>0.0</td>\n",
       "      <td>1.0</td>\n",
       "    </tr>\n",
       "    <tr>\n",
       "      <th>2</th>\n",
       "      <td>502</td>\n",
       "      <td>0</td>\n",
       "      <td>42</td>\n",
       "      <td>8</td>\n",
       "      <td>159660.80</td>\n",
       "      <td>3</td>\n",
       "      <td>1</td>\n",
       "      <td>0</td>\n",
       "      <td>113931.57</td>\n",
       "      <td>1</td>\n",
       "      <td>1.0</td>\n",
       "      <td>0.0</td>\n",
       "      <td>0.0</td>\n",
       "    </tr>\n",
       "    <tr>\n",
       "      <th>3</th>\n",
       "      <td>699</td>\n",
       "      <td>0</td>\n",
       "      <td>39</td>\n",
       "      <td>1</td>\n",
       "      <td>0.00</td>\n",
       "      <td>2</td>\n",
       "      <td>0</td>\n",
       "      <td>0</td>\n",
       "      <td>93826.63</td>\n",
       "      <td>0</td>\n",
       "      <td>1.0</td>\n",
       "      <td>0.0</td>\n",
       "      <td>0.0</td>\n",
       "    </tr>\n",
       "    <tr>\n",
       "      <th>4</th>\n",
       "      <td>850</td>\n",
       "      <td>0</td>\n",
       "      <td>43</td>\n",
       "      <td>2</td>\n",
       "      <td>125510.82</td>\n",
       "      <td>1</td>\n",
       "      <td>1</td>\n",
       "      <td>1</td>\n",
       "      <td>79084.10</td>\n",
       "      <td>0</td>\n",
       "      <td>0.0</td>\n",
       "      <td>0.0</td>\n",
       "      <td>1.0</td>\n",
       "    </tr>\n",
       "  </tbody>\n",
       "</table>\n",
       "</div>"
      ]
     },
     "execution_count": 20,
     "metadata": {},
     "output_type": "execute_result"
    }
   ],
   "execution_count": 20
  },
  {
   "metadata": {
    "ExecuteTime": {
     "end_time": "2025-07-18T14:36:01.914903Z",
     "start_time": "2025-07-18T14:36:01.905898Z"
    }
   },
   "cell_type": "code",
   "source": [
    "X = data.drop(\"EstimatedSalary\", axis=1)\n",
    "Y = data[\"EstimatedSalary\"]"
   ],
   "id": "b3d3af94c439a3cf",
   "outputs": [],
   "execution_count": 21
  },
  {
   "metadata": {
    "ExecuteTime": {
     "end_time": "2025-07-18T14:36:02.165473Z",
     "start_time": "2025-07-18T14:36:02.152945Z"
    }
   },
   "cell_type": "code",
   "source": "X_train, X_test, Y_train, Y_test = train_test_split(X, Y, test_size=0.2, random_state=42)",
   "id": "398ddc9cc084d608",
   "outputs": [],
   "execution_count": 22
  },
  {
   "metadata": {
    "ExecuteTime": {
     "end_time": "2025-07-18T14:36:02.431103Z",
     "start_time": "2025-07-18T14:36:02.408065Z"
    }
   },
   "cell_type": "code",
   "source": [
    "scaler = StandardScaler()\n",
    "X_train_scaled = scaler.fit_transform(X_train)\n",
    "X_test_scaled = scaler.transform(X_test)"
   ],
   "id": "91510977570c2440",
   "outputs": [],
   "execution_count": 23
  },
  {
   "metadata": {
    "ExecuteTime": {
     "end_time": "2025-07-18T14:36:02.744576Z",
     "start_time": "2025-07-18T14:36:02.722525Z"
    }
   },
   "cell_type": "code",
   "source": [
    "with open('../models/salaryPredictor/label_encoder_gender.pkl', 'wb') as file:\n",
    "    pickle.dump(label_encoder_gender, file)\n",
    "\n",
    "with open('../models/salaryPredictor/onehot_encoder_geo.pkl', 'wb') as file:\n",
    "    pickle.dump(onehot_encoder_geo, file)\n",
    "\n",
    "with open('../models/salaryPredictor/scaler.pkl', 'wb') as file:\n",
    "    pickle.dump(scaler, file)"
   ],
   "id": "a9956f1f12eba462",
   "outputs": [],
   "execution_count": 24
  },
  {
   "metadata": {
    "ExecuteTime": {
     "end_time": "2025-07-18T14:36:03.505421Z",
     "start_time": "2025-07-18T14:36:03.491654Z"
    }
   },
   "cell_type": "code",
   "source": [
    "## ANN with regression\n",
    "import tensorflow as tf\n",
    "from tensorflow.keras.models import Sequential\n",
    "from tensorflow.keras.layers import Dense"
   ],
   "id": "521e46c907c24fa5",
   "outputs": [],
   "execution_count": 25
  },
  {
   "metadata": {
    "ExecuteTime": {
     "end_time": "2025-07-18T14:36:04.176877Z",
     "start_time": "2025-07-18T14:36:04.099617Z"
    }
   },
   "cell_type": "code",
   "source": [
    "model = Sequential(\n",
    "    [\n",
    "        Dense(64, activation='relu', input_shape=(X_train.shape[1],)),\n",
    "        Dense(32, activation='relu'),\n",
    "        Dense(1),\n",
    "    ]\n",
    ")\n",
    "\n",
    "model.compile(optimizer='adam', loss='mean_absolute_error', metrics=\"mae\")\n",
    "model.summary()"
   ],
   "id": "bf464f3ce94d07ab",
   "outputs": [
    {
     "name": "stdout",
     "output_type": "stream",
     "text": [
      "Model: \"sequential_1\"\n",
      "_________________________________________________________________\n",
      " Layer (type)                Output Shape              Param #   \n",
      "=================================================================\n",
      " dense_3 (Dense)             (None, 64)                832       \n",
      "                                                                 \n",
      " dense_4 (Dense)             (None, 32)                2080      \n",
      "                                                                 \n",
      " dense_5 (Dense)             (None, 1)                 33        \n",
      "                                                                 \n",
      "=================================================================\n",
      "Total params: 2,945\n",
      "Trainable params: 2,945\n",
      "Non-trainable params: 0\n",
      "_________________________________________________________________\n"
     ]
    }
   ],
   "execution_count": 26
  },
  {
   "metadata": {
    "ExecuteTime": {
     "end_time": "2025-07-18T14:36:04.832173Z",
     "start_time": "2025-07-18T14:36:04.819178Z"
    }
   },
   "cell_type": "code",
   "source": [
    "from tensorflow.keras.callbacks import EarlyStopping, TensorBoard\n",
    "import datetime\n",
    "\n",
    "log_dir = \"logs/fit/\" + datetime.datetime.now().strftime(\"%Y%m%d-%H%M%S\")\n",
    "tensorboard_callback = TensorBoard(log_dir=log_dir, histogram_freq=1)"
   ],
   "id": "3e96438bd32bf13c",
   "outputs": [],
   "execution_count": 27
  },
  {
   "metadata": {
    "ExecuteTime": {
     "end_time": "2025-07-18T14:36:05.676783Z",
     "start_time": "2025-07-18T14:36:05.665386Z"
    }
   },
   "cell_type": "code",
   "source": "early_stopping_callback = EarlyStopping(monitor='val_loss', patience=10, restore_best_weights=True)",
   "id": "eec869d8d5af86c5",
   "outputs": [],
   "execution_count": 28
  },
  {
   "metadata": {
    "ExecuteTime": {
     "end_time": "2025-07-18T14:36:30.578574Z",
     "start_time": "2025-07-18T14:36:06.164277Z"
    }
   },
   "cell_type": "code",
   "source": [
    "history = model.fit(\n",
    "    X_train_scaled, Y_train,\n",
    "    epochs=100,\n",
    "    validation_data=(X_test_scaled, Y_test),\n",
    "    callbacks=[early_stopping_callback, tensorboard_callback]\n",
    ")"
   ],
   "id": "9976ab1455f8fc11",
   "outputs": [
    {
     "name": "stdout",
     "output_type": "stream",
     "text": [
      "Epoch 1/100\n",
      "250/250 [==============================] - 1s 2ms/step - loss: 100396.5469 - mae: 100396.5469 - val_loss: 98586.1406 - val_mae: 98586.1406\n",
      "Epoch 2/100\n",
      "250/250 [==============================] - 0s 1ms/step - loss: 99862.8672 - mae: 99862.8672 - val_loss: 97486.7266 - val_mae: 97486.7266\n",
      "Epoch 3/100\n",
      "250/250 [==============================] - 0s 1ms/step - loss: 97911.0234 - mae: 97911.0234 - val_loss: 94589.5859 - val_mae: 94589.5859\n",
      "Epoch 4/100\n",
      "250/250 [==============================] - 0s 1ms/step - loss: 93971.4766 - mae: 93971.4766 - val_loss: 89617.4062 - val_mae: 89617.4062\n",
      "Epoch 5/100\n",
      "250/250 [==============================] - 0s 1ms/step - loss: 87998.7578 - mae: 87998.7578 - val_loss: 82842.7891 - val_mae: 82842.7891\n",
      "Epoch 6/100\n",
      "250/250 [==============================] - 0s 1ms/step - loss: 80454.7500 - mae: 80454.7500 - val_loss: 75054.7969 - val_mae: 75054.7969\n",
      "Epoch 7/100\n",
      "250/250 [==============================] - 0s 1ms/step - loss: 72370.7812 - mae: 72370.7812 - val_loss: 67418.8828 - val_mae: 67418.8828\n",
      "Epoch 8/100\n",
      "250/250 [==============================] - 0s 1ms/step - loss: 64848.4062 - mae: 64848.4062 - val_loss: 60877.0742 - val_mae: 60877.0742\n",
      "Epoch 9/100\n",
      "250/250 [==============================] - 0s 1ms/step - loss: 58816.5352 - mae: 58816.5352 - val_loss: 56045.7148 - val_mae: 56045.7148\n",
      "Epoch 10/100\n",
      "250/250 [==============================] - 0s 1ms/step - loss: 54672.6523 - mae: 54672.6523 - val_loss: 53095.5859 - val_mae: 53095.5859\n",
      "Epoch 11/100\n",
      "250/250 [==============================] - 0s 1ms/step - loss: 52266.9258 - mae: 52266.9258 - val_loss: 51649.6250 - val_mae: 51649.6250\n",
      "Epoch 12/100\n",
      "250/250 [==============================] - 1s 3ms/step - loss: 51080.2734 - mae: 51080.2734 - val_loss: 51016.8867 - val_mae: 51016.8867\n",
      "Epoch 13/100\n",
      "250/250 [==============================] - 0s 1ms/step - loss: 50561.4258 - mae: 50561.4258 - val_loss: 50766.0508 - val_mae: 50766.0508\n",
      "Epoch 14/100\n",
      "250/250 [==============================] - 0s 1ms/step - loss: 50341.3828 - mae: 50341.3828 - val_loss: 50662.6992 - val_mae: 50662.6992\n",
      "Epoch 15/100\n",
      "250/250 [==============================] - 0s 1ms/step - loss: 50241.9219 - mae: 50241.9219 - val_loss: 50615.6641 - val_mae: 50615.6641\n",
      "Epoch 16/100\n",
      "250/250 [==============================] - 0s 1ms/step - loss: 50182.7461 - mae: 50182.7461 - val_loss: 50576.2031 - val_mae: 50576.2031\n",
      "Epoch 17/100\n",
      "250/250 [==============================] - 0s 1ms/step - loss: 50134.4766 - mae: 50134.4766 - val_loss: 50547.7461 - val_mae: 50547.7461\n",
      "Epoch 18/100\n",
      "250/250 [==============================] - 0s 2ms/step - loss: 50091.8438 - mae: 50091.8438 - val_loss: 50509.2422 - val_mae: 50509.2422\n",
      "Epoch 19/100\n",
      "250/250 [==============================] - 0s 1ms/step - loss: 50053.0664 - mae: 50053.0664 - val_loss: 50487.4648 - val_mae: 50487.4648\n",
      "Epoch 20/100\n",
      "250/250 [==============================] - 0s 1ms/step - loss: 50020.2891 - mae: 50020.2891 - val_loss: 50458.7109 - val_mae: 50458.7109\n",
      "Epoch 21/100\n",
      "250/250 [==============================] - 0s 1ms/step - loss: 49988.2070 - mae: 49988.2070 - val_loss: 50434.4336 - val_mae: 50434.4336\n",
      "Epoch 22/100\n",
      "250/250 [==============================] - 0s 1ms/step - loss: 49958.3359 - mae: 49958.3359 - val_loss: 50412.3359 - val_mae: 50412.3359\n",
      "Epoch 23/100\n",
      "250/250 [==============================] - 0s 1ms/step - loss: 49928.8750 - mae: 49928.8750 - val_loss: 50390.0117 - val_mae: 50390.0117\n",
      "Epoch 24/100\n",
      "250/250 [==============================] - 0s 2ms/step - loss: 49904.4766 - mae: 49904.4766 - val_loss: 50368.6094 - val_mae: 50368.6094\n",
      "Epoch 25/100\n",
      "250/250 [==============================] - 0s 1ms/step - loss: 49879.6172 - mae: 49879.6172 - val_loss: 50356.0234 - val_mae: 50356.0234\n",
      "Epoch 26/100\n",
      "250/250 [==============================] - 0s 1ms/step - loss: 49857.7578 - mae: 49857.7578 - val_loss: 50341.6172 - val_mae: 50341.6172\n",
      "Epoch 27/100\n",
      "250/250 [==============================] - 0s 1ms/step - loss: 49835.7656 - mae: 49835.7656 - val_loss: 50326.4141 - val_mae: 50326.4141\n",
      "Epoch 28/100\n",
      "250/250 [==============================] - 1s 3ms/step - loss: 49816.1562 - mae: 49816.1562 - val_loss: 50308.7109 - val_mae: 50308.7109\n",
      "Epoch 29/100\n",
      "250/250 [==============================] - 0s 1ms/step - loss: 49797.2539 - mae: 49797.2539 - val_loss: 50296.1250 - val_mae: 50296.1250\n",
      "Epoch 30/100\n",
      "250/250 [==============================] - 1s 2ms/step - loss: 49779.0703 - mae: 49779.0703 - val_loss: 50287.8320 - val_mae: 50287.8320\n",
      "Epoch 31/100\n",
      "250/250 [==============================] - 1s 2ms/step - loss: 49764.5859 - mae: 49764.5859 - val_loss: 50277.2148 - val_mae: 50277.2148\n",
      "Epoch 32/100\n",
      "250/250 [==============================] - 0s 2ms/step - loss: 49744.1445 - mae: 49744.1445 - val_loss: 50261.6953 - val_mae: 50261.6953\n",
      "Epoch 33/100\n",
      "250/250 [==============================] - 0s 2ms/step - loss: 49728.3125 - mae: 49728.3125 - val_loss: 50257.4531 - val_mae: 50257.4531\n",
      "Epoch 34/100\n",
      "250/250 [==============================] - 0s 2ms/step - loss: 49714.8438 - mae: 49714.8438 - val_loss: 50254.8633 - val_mae: 50254.8633\n",
      "Epoch 35/100\n",
      "250/250 [==============================] - 1s 2ms/step - loss: 49699.9688 - mae: 49699.9688 - val_loss: 50239.9688 - val_mae: 50239.9688\n",
      "Epoch 36/100\n",
      "250/250 [==============================] - 1s 4ms/step - loss: 49685.1992 - mae: 49685.1992 - val_loss: 50240.1055 - val_mae: 50240.1055\n",
      "Epoch 37/100\n",
      "250/250 [==============================] - 0s 2ms/step - loss: 49671.7656 - mae: 49671.7656 - val_loss: 50235.0312 - val_mae: 50235.0312\n",
      "Epoch 38/100\n",
      "250/250 [==============================] - 1s 3ms/step - loss: 49661.1836 - mae: 49661.1836 - val_loss: 50235.6562 - val_mae: 50235.6562\n",
      "Epoch 39/100\n",
      "250/250 [==============================] - 0s 1ms/step - loss: 49647.8867 - mae: 49647.8867 - val_loss: 50226.2422 - val_mae: 50226.2422\n",
      "Epoch 40/100\n",
      "250/250 [==============================] - 0s 2ms/step - loss: 49634.3672 - mae: 49634.3672 - val_loss: 50229.1484 - val_mae: 50229.1484\n",
      "Epoch 41/100\n",
      "250/250 [==============================] - 1s 3ms/step - loss: 49624.5977 - mae: 49624.5977 - val_loss: 50225.9648 - val_mae: 50225.9648\n",
      "Epoch 42/100\n",
      "250/250 [==============================] - 1s 2ms/step - loss: 49615.0703 - mae: 49615.0703 - val_loss: 50229.3711 - val_mae: 50229.3711\n",
      "Epoch 43/100\n",
      "250/250 [==============================] - 1s 2ms/step - loss: 49602.3633 - mae: 49602.3633 - val_loss: 50232.2812 - val_mae: 50232.2812\n",
      "Epoch 44/100\n",
      "250/250 [==============================] - 1s 3ms/step - loss: 49592.8750 - mae: 49592.8750 - val_loss: 50229.1953 - val_mae: 50229.1953\n",
      "Epoch 45/100\n",
      "250/250 [==============================] - 1s 2ms/step - loss: 49584.6992 - mae: 49584.6992 - val_loss: 50219.2422 - val_mae: 50219.2422\n",
      "Epoch 46/100\n",
      "250/250 [==============================] - 0s 2ms/step - loss: 49577.2617 - mae: 49577.2617 - val_loss: 50220.3047 - val_mae: 50220.3047\n",
      "Epoch 47/100\n",
      "250/250 [==============================] - 0s 2ms/step - loss: 49567.8906 - mae: 49567.8906 - val_loss: 50220.2656 - val_mae: 50220.2656\n",
      "Epoch 48/100\n",
      "250/250 [==============================] - 0s 1ms/step - loss: 49559.9258 - mae: 49559.9258 - val_loss: 50228.2969 - val_mae: 50228.2969\n",
      "Epoch 49/100\n",
      "250/250 [==============================] - 0s 1ms/step - loss: 49551.8125 - mae: 49551.8125 - val_loss: 50226.5781 - val_mae: 50226.5781\n",
      "Epoch 50/100\n",
      "250/250 [==============================] - 0s 1ms/step - loss: 49543.5234 - mae: 49543.5234 - val_loss: 50245.1562 - val_mae: 50245.1562\n",
      "Epoch 51/100\n",
      "250/250 [==============================] - 0s 1ms/step - loss: 49533.8438 - mae: 49533.8438 - val_loss: 50237.6992 - val_mae: 50237.6992\n",
      "Epoch 52/100\n",
      "250/250 [==============================] - 0s 1ms/step - loss: 49527.7148 - mae: 49527.7148 - val_loss: 50232.0117 - val_mae: 50232.0117\n",
      "Epoch 53/100\n",
      "250/250 [==============================] - 0s 2ms/step - loss: 49520.7070 - mae: 49520.7070 - val_loss: 50243.4805 - val_mae: 50243.4805\n",
      "Epoch 54/100\n",
      "250/250 [==============================] - 1s 2ms/step - loss: 49514.3555 - mae: 49514.3555 - val_loss: 50239.0703 - val_mae: 50239.0703\n",
      "Epoch 55/100\n",
      "250/250 [==============================] - 1s 2ms/step - loss: 49508.7969 - mae: 49508.7969 - val_loss: 50242.5938 - val_mae: 50242.5938\n"
     ]
    }
   ],
   "execution_count": 29
  },
  {
   "metadata": {
    "ExecuteTime": {
     "end_time": "2025-07-18T14:36:30.687904Z",
     "start_time": "2025-07-18T14:36:30.641833Z"
    }
   },
   "cell_type": "code",
   "source": [
    "%load_ext tensorboard\n",
    "%tensorboard --logdir logs/fit/"
   ],
   "id": "17894f35edfaa049",
   "outputs": [
    {
     "name": "stdout",
     "output_type": "stream",
     "text": [
      "The tensorboard extension is already loaded. To reload it, use:\n",
      "  %reload_ext tensorboard\n"
     ]
    },
    {
     "data": {
      "text/plain": [
       "Reusing TensorBoard on port 6006 (pid 8124), started 0:00:43 ago. (Use '!kill 8124' to kill it.)"
      ]
     },
     "metadata": {},
     "output_type": "display_data"
    },
    {
     "data": {
      "text/plain": [
       "<IPython.core.display.HTML object>"
      ],
      "text/html": [
       "\n",
       "      <iframe id=\"tensorboard-frame-a817a7f36f285139\" width=\"100%\" height=\"800\" frameborder=\"0\">\n",
       "      </iframe>\n",
       "      <script>\n",
       "        (function() {\n",
       "          const frame = document.getElementById(\"tensorboard-frame-a817a7f36f285139\");\n",
       "          const url = new URL(\"/\", window.location);\n",
       "          const port = 6006;\n",
       "          if (port) {\n",
       "            url.port = port;\n",
       "          }\n",
       "          frame.src = url;\n",
       "        })();\n",
       "      </script>\n",
       "    "
      ]
     },
     "metadata": {},
     "output_type": "display_data"
    }
   ],
   "execution_count": 30
  },
  {
   "metadata": {
    "ExecuteTime": {
     "end_time": "2025-07-18T14:36:30.955873Z",
     "start_time": "2025-07-18T14:36:30.784684Z"
    }
   },
   "cell_type": "code",
   "source": [
    "## Evaluvate model on the test data\n",
    "\n",
    "test_loss, test_mae = model.evaluate(X_test_scaled, Y_test, verbose=2)\n",
    "print(f\"Test mae: {test_mae:.2f}\")"
   ],
   "id": "499e51abf62b2111",
   "outputs": [
    {
     "name": "stdout",
     "output_type": "stream",
     "text": [
      "63/63 - 0s - loss: 50219.2422 - mae: 50219.2422 - 82ms/epoch - 1ms/step\n",
      "Test mae: 50219.24\n"
     ]
    }
   ],
   "execution_count": 31
  },
  {
   "metadata": {
    "ExecuteTime": {
     "end_time": "2025-07-18T14:36:30.987331Z",
     "start_time": "2025-07-18T14:36:30.968871Z"
    }
   },
   "cell_type": "code",
   "source": "model.save('../models/salaryPredictor/regression_model.h5')",
   "id": "4001ea4fab6d7d",
   "outputs": [],
   "execution_count": 32
  }
 ],
 "metadata": {
  "kernelspec": {
   "display_name": "Python 3",
   "language": "python",
   "name": "python3"
  },
  "language_info": {
   "codemirror_mode": {
    "name": "ipython",
    "version": 2
   },
   "file_extension": ".py",
   "mimetype": "text/x-python",
   "name": "python",
   "nbconvert_exporter": "python",
   "pygments_lexer": "ipython2",
   "version": "2.7.6"
  }
 },
 "nbformat": 4,
 "nbformat_minor": 5
}
